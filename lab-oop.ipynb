{
 "cells": [
  {
   "cell_type": "markdown",
   "metadata": {},
   "source": [
    "# OOP\n",
    "\n",
    "In this lab we will put into practice what we have seen in class.\n",
    "\n",
    "`NOTE: It is split in two different Exercise: Do NOT try to change the order as the idea is to build a class from scratch using all the steps on each exercise` \n",
    "\n",
    "Good Luck! "
   ]
  },
  {
   "cell_type": "markdown",
   "metadata": {},
   "source": [
    "## Exercise 1: Car Class\n",
    "\n",
    "Use the origina code below to start with the exercise: "
   ]
  },
  {
   "cell_type": "code",
   "execution_count": 1,
   "metadata": {},
   "outputs": [],
   "source": [
    "class Car:\n",
    "    def __init__(self, color): \n",
    "        self.color = color"
   ]
  },
  {
   "cell_type": "markdown",
   "metadata": {},
   "source": [
    "### 1.1: Basic Info\n",
    "\n",
    "- This class Car is incomplete. We need to have more attributes, in this case we will need the user to add the Brand of the car (p.e. Fiat, Volvo, etc\") and the number of wheels (always 4). Build the first function called info, where it should print all the information of the car.\n",
    "- Try using the upper, capitalize or lower methods of strings to make the print look realistic. "
   ]
  },
  {
   "cell_type": "code",
   "execution_count": 2,
   "metadata": {},
   "outputs": [
    {
     "name": "stdout",
     "output_type": "stream",
     "text": [
      "Car Color: Azúl \n",
      "Car Brand: Peugeot \n",
      "Wheels: 4\n",
      "Car Color: Gris \n",
      "Car Brand: Toyota \n",
      "Wheels: 4\n"
     ]
    }
   ],
   "source": [
    "# Your Code here\n",
    "class Car:\n",
    "    wheels = 4  # atributo de la clase, será igual para todas las instancias\n",
    "    def __init__(self, color, brand):  # defino los atributos (cada atributo será diferente (o no) para cada instancia)\n",
    "        self.color = color.lower().capitalize()\n",
    "        self.brand = brand.lower().capitalize()\n",
    "\n",
    "    def info(self):  # creo el método Info\n",
    "        print(f\"Car Color: {self.color} \\nCar Brand: {self.brand} \\nWheels: {self.wheels}\")\n",
    "    \n",
    "cochecat = Car(\"azúl\", \"peugeot\")  # creo la instancia cochecat\n",
    "cochecat.info()                    # llamo al método info\n",
    "\n",
    "cochealbi = Car(\"gris\", \"toyota\")  # creo una nueva instancia\n",
    "cochealbi.info()"
   ]
  },
  {
   "cell_type": "code",
   "execution_count": 3,
   "metadata": {},
   "outputs": [
    {
     "name": "stdout",
     "output_type": "stream",
     "text": [
      "Car Color: Red \n",
      "Car Brand: Bmw \n",
      "Wheels: 4\n"
     ]
    }
   ],
   "source": [
    "# try your code with this example\n",
    "bmw = Car(\"red\", \"BMW\")\n",
    "bmw.info()"
   ]
  },
  {
   "cell_type": "markdown",
   "metadata": {},
   "source": [
    "### 1.2: Turn On/Off\n",
    "\n",
    "- Set a new attribute called `engine`. In it there will only be two options, ON and OFF. Originally, this new attribute will be OFF as the car engine will be OFF. \n",
    "- Create two more methods called `encender` and `apagar`. Take into consideration that if the car is ON and you try the encender, a message should be printed: \"No se puede encender "
   ]
  },
  {
   "cell_type": "code",
   "execution_count": 4,
   "metadata": {},
   "outputs": [
    {
     "name": "stdout",
     "output_type": "stream",
     "text": [
      "Car Color: Azúl \n",
      "Car Brand: Peugeot \n",
      "Wheels: 4\n",
      "El Peugeot de color Azúl está en ON\n",
      "El Peugeot de color Azúl no se puede encender porque ya está encendido\n"
     ]
    }
   ],
   "source": [
    "# Your Code here: \n",
    "class Car:\n",
    "    wheels = 4  # atributo de la clase, será igual para todas las instancias\n",
    "    def __init__(self, color, brand):   # defino los atributos (cada atributo será diferente (o no) para cada instancia)\n",
    "        self.color = color.lower().capitalize()\n",
    "        self.brand = brand.lower().capitalize()\n",
    "        self.engine = \"OFF\"\n",
    "\n",
    "    def info(self):    # creo el método Info\n",
    "        print(f\"Car Color: {self.color} \\nCar Brand: {self.brand} \\nWheels: {self.wheels}\")\n",
    "    \n",
    "    def encender(self):\n",
    "        if self.engine == \"OFF\":\n",
    "            self.engine = \"ON\"\n",
    "            print(f\"El {self.brand} de color {self.color} está en {self.engine}\")\n",
    "        else:\n",
    "            print(f\"El {self.brand} de color {self.color} no se puede encender porque ya está encendido\")\n",
    "\n",
    "    def apagar(self):\n",
    "        if self.engine == \"ON\":\n",
    "            self.engine = \"OFF\"\n",
    "            print(f\"el {self.brand} de color {self.color} está en {self.engine}\")\n",
    "        else:\n",
    "            print(f\"El {self.brand} de color {self.color} ya está apagado\")\n",
    "\n",
    "cochecat = Car(\"Azúl\", \"peugeot\")\n",
    "cochecat.info()\n",
    "cochecat.encender()\n",
    "cochecat.encender()\n",
    "        \n"
   ]
  },
  {
   "cell_type": "code",
   "execution_count": 5,
   "metadata": {},
   "outputs": [
    {
     "name": "stdout",
     "output_type": "stream",
     "text": [
      "Car Color: Azúl \n",
      "Car Brand: Peugeot \n",
      "Wheels: 4\n",
      "El Peugeot de color Azúl está en ON\n",
      "el Peugeot de color Azúl está en OFF\n",
      "El Peugeot de color Azúl ya está apagado\n"
     ]
    }
   ],
   "source": [
    "#Try the method a couple of times to see if the behaviour of the car is working well (p.e. dos veces función encendida o 2 veces función apagada)\n",
    "\n",
    "cochecat = Car(\"Azúl\", \"peugeot\")\n",
    "cochecat.info()\n",
    "cochecat.encender()\n",
    "cochecat.apagar()\n",
    "cochecat.apagar()"
   ]
  },
  {
   "cell_type": "code",
   "execution_count": 6,
   "metadata": {},
   "outputs": [
    {
     "name": "stdout",
     "output_type": "stream",
     "text": [
      "El Peugeot de color Azúl está en ON\n"
     ]
    }
   ],
   "source": [
    "cochecat.encender()"
   ]
  },
  {
   "cell_type": "code",
   "execution_count": 7,
   "metadata": {},
   "outputs": [
    {
     "name": "stdout",
     "output_type": "stream",
     "text": [
      "El Peugeot de color Azúl no se puede encender porque ya está encendido\n"
     ]
    }
   ],
   "source": [
    "cochecat.encender()"
   ]
  },
  {
   "cell_type": "code",
   "execution_count": 8,
   "metadata": {},
   "outputs": [
    {
     "name": "stdout",
     "output_type": "stream",
     "text": [
      "el Peugeot de color Azúl está en OFF\n"
     ]
    }
   ],
   "source": [
    "cochecat.apagar()"
   ]
  },
  {
   "cell_type": "code",
   "execution_count": 9,
   "metadata": {},
   "outputs": [
    {
     "name": "stdout",
     "output_type": "stream",
     "text": [
      "El Peugeot de color Azúl ya está apagado\n"
     ]
    }
   ],
   "source": [
    "cochecat.apagar()"
   ]
  },
  {
   "cell_type": "markdown",
   "metadata": {},
   "source": [
    "### 1.3 Accelerate/reduce/break\n",
    "\n",
    "Here we are going to set a new attribute: `speed`. The original speed of each vehicle must be 0. We will then add three methods: acelerar, reducir and frenar. `acelerar` will increase the speed, `reducir` will reduce it and `frenar` will take it back to 0 again. \n",
    "Extra conditions: \n",
    "\n",
    "Try tu use the logic to know some basic interactions between this methods and the methods seen in 1.2. First try it yourself before revealing the hidden information!\n",
    "\n",
    "\n",
    "<details>\n",
    "    <summary> Expand the box to see the logic between methods </summary>\n",
    "    \n",
    "- The engine must be ON to use this 3 new method\n",
    "\n",
    "- If the speed is different to 0, you can not use the `apagar` method\n",
    "\n",
    "- If you use `reducir` to a number that makes the speed in negative numbers, you can not use reducir.  \n",
    "\n",
    "- To avoid using the `__dict__`, add the speed and the engine state as new info in the `info` method\n",
    "\n",
    "- For both `acelerar` and `reducir`, everytime you use this method you must send an argument (how much is the car accelerating and reducing everytime you call this function)\n",
    "\n",
    "</details>\n"
   ]
  },
  {
   "cell_type": "code",
   "execution_count": 2,
   "metadata": {},
   "outputs": [
    {
     "name": "stdout",
     "output_type": "stream",
     "text": [
      "Car Color: Azúl \n",
      "Car Brand: Peugeot \n",
      "Wheels: 4\n",
      "El Peugeot de color Azúl está yendo a 2 Kms/h\n",
      "El Peugeot de color Azúl está yendo a 5 Kms/h\n",
      "El Peugeot de color Azúl está yendo a 11 Kms/h\n",
      "El Peugeot de color Azúl está yendo a 7 Kms/h\n",
      "El Peugeot de color Azúl se ha parado\n",
      "El Peugeot de color Azúl está yendo a 50 Kms/h\n",
      "El Peugeot de color Azúl está yendo a 100 Kms/h\n"
     ]
    }
   ],
   "source": [
    "# Your Code here: \n",
    "class Car:\n",
    "    wheels = 4  # atributo de la clase, será igual para todas las instancias\n",
    "    def __init__(self, color, brand):  # defino los atributos (cada atributo será diferente (o no) para cada instancia)\n",
    "        self.color = color.lower().capitalize()\n",
    "        self.brand = brand.lower().capitalize()\n",
    "        self.engine = \"OFF\"\n",
    "        self.speed = 0\n",
    "\n",
    "    def info(self):   # creo el método Info\n",
    "        print(f\"Car Color: {self.color} \\nCar Brand: {self.brand} \\nWheels: {self.wheels}\")\n",
    "\n",
    "    def encender(self):\n",
    "        if self.engine == \"OFF\":\n",
    "            self.engine = \"ON\"\n",
    "            print(f\"El {self.brand} de color {self.color} está en {self.engine}\")\n",
    "        else:\n",
    "            print(f\"El {self.brand} de color {self.color} no se puede encender porque ya está encendido\")\n",
    "\n",
    "    def apagar(self):\n",
    "        if self.engine == \"ON\":\n",
    "            self.engine = \"OFF\"\n",
    "            print(f\"el {self.brand} de color {self.color} está en {self.engine}\")\n",
    "        else:\n",
    "            print(f\"El {self.brand} de color {self.color} ya está apagado\")       \n",
    "\n",
    "    def acelerar(self, speed):\n",
    "        self.speed += speed\n",
    "        #return self.speed\n",
    "        print(f\"El {self.brand} de color {self.color} está yendo a {self.speed} Kms/h\")\n",
    "\n",
    "    def reducir(self, speed):\n",
    "        self.speed -= speed\n",
    "        #return self.speed\n",
    "        print(f\"El {self.brand} de color {self.color} está yendo a {self.speed} Kms/h\")\n",
    "\n",
    "    def frenar(self):\n",
    "        self.speed = 0  # no es necesario poner esta linea\n",
    "        #return self.speed\n",
    "        print(f\"El {self.brand} de color {self.color} se ha parado\")\n",
    "\n",
    "cochecat = Car(\"Azúl\", \"peugeot\")\n",
    "cochecat.info()\n",
    "cochecat.acelerar(2)\n",
    "cochecat.acelerar(3)\n",
    "cochecat.acelerar(6)\n",
    "cochecat.reducir(4)\n",
    "cochecat.frenar()\n",
    "cochecat.acelerar(50)\n",
    "cochecat.acelerar(50)"
   ]
  },
  {
   "cell_type": "code",
   "execution_count": 11,
   "metadata": {},
   "outputs": [
    {
     "name": "stdout",
     "output_type": "stream",
     "text": [
      "Car Color: Rojo \n",
      "Car Brand: Bmw \n",
      "Wheels: 4\n",
      "El Bmw de color Rojo está yendo a 3 Kms/h\n",
      "El Bmw de color Rojo está yendo a 8 Kms/h\n",
      "El Bmw de color Rojo está yendo a 28 Kms/h\n",
      "El Bmw de color Rojo está yendo a 58 Kms/h\n",
      "El Bmw de color Rojo está yendo a 78 Kms/h\n",
      "El Bmw de color Rojo está yendo a 112 Kms/h\n",
      "El Bmw de color Rojo está yendo a 62 Kms/h\n",
      "El Bmw de color Rojo está yendo a 72 Kms/h\n"
     ]
    }
   ],
   "source": [
    "#Try combos with this same car!\n",
    "bmw = Car(\"rojo\", \"BMW\")\n",
    "bmw.info()\n",
    "bmw.acelerar(3)\n",
    "bmw.acelerar(5)\n",
    "bmw.acelerar(20)\n",
    "bmw.acelerar(30)\n",
    "bmw.acelerar(20)\n",
    "bmw.acelerar(34)\n",
    "bmw.reducir(50)\n",
    "bmw.acelerar(10)\n",
    "\n"
   ]
  },
  {
   "cell_type": "code",
   "execution_count": 12,
   "metadata": {},
   "outputs": [
    {
     "name": "stdout",
     "output_type": "stream",
     "text": [
      "El Bmw de color Rojo se ha parado\n"
     ]
    }
   ],
   "source": [
    "bmw.frenar()"
   ]
  },
  {
   "cell_type": "code",
   "execution_count": 13,
   "metadata": {},
   "outputs": [
    {
     "name": "stdout",
     "output_type": "stream",
     "text": [
      "Car Color: Rojo \n",
      "Car Brand: Bmw \n",
      "Wheels: 4\n",
      "El Bmw de color Rojo está en ON\n",
      "El Bmw de color Rojo está yendo a 10 Kms/h\n",
      "El Bmw de color Rojo está yendo a 5 Kms/h\n",
      "Car Color: Rojo \n",
      "Car Brand: Bmw \n",
      "Wheels: 4\n",
      "el Bmw de color Rojo está en OFF\n",
      "El Bmw de color Rojo se ha parado\n",
      "El Bmw de color Rojo ya está apagado\n"
     ]
    }
   ],
   "source": [
    "#Try all the combinations you like and see if it works!\n",
    "\n",
    "bmw.info()\n",
    "bmw.encender()\n",
    "bmw.acelerar(10)\n",
    "bmw.reducir(5)\n",
    "bmw.info()\n",
    "bmw.apagar()\n",
    "bmw.frenar()\n",
    "bmw.apagar()"
   ]
  },
  {
   "cell_type": "markdown",
   "metadata": {},
   "source": [
    "### 1.4 Maximum Speed\n",
    "\n",
    "We will now set a new parameter the user should introduce: `max_speed`. If the user do NOT set this parameter, the **default value** should be 120\n",
    "\n",
    "(the code should work for both Car(\"blue\", \"FIAT\") and Car(\"purple\", \"Mini\", 130) )\n",
    "\n",
    "The only thing that must change from the previous code is that your speed can NEVER be over the limit of the car. If you try to accelerate more, the speed of the car will be max_speed. "
   ]
  },
  {
   "cell_type": "code",
   "execution_count": 14,
   "metadata": {},
   "outputs": [],
   "source": [
    "# Your Code here: \n",
    "class Car:\n",
    "    wheels = 4  # atributo de la clase, será igual para todas las instancias\n",
    "    def __init__(self, color, brand, max_speed = 120):  # defino los atributos (cada atributo será diferente (o no) para cada instancia)\n",
    "        self.color = color.lower().capitalize()\n",
    "        self.brand = brand.lower().capitalize()\n",
    "        self.engine = \"OFF\"\n",
    "        self.speed = 0\n",
    "        self.max_speed = max_speed\n",
    "\n",
    "    def info(self):   # creo el método Info\n",
    "        print(f\"Car Color: {self.color} \\nCar Brand: {self.brand} \\nWheels: {self.wheels}\")\n",
    "\n",
    "    def encender(self):\n",
    "        if self.engine == \"OFF\":\n",
    "            self.engine = \"ON\"\n",
    "            print(f\"El {self.brand} de color {self.color} está en {self.engine}\")\n",
    "        else:\n",
    "            print(f\"El {self.brand} de color {self.color} no se puede encender porque ya está encendido\")\n",
    "\n",
    "    def apagar(self):\n",
    "        if self.engine == \"ON\":\n",
    "            self.engine = \"OFF\"\n",
    "            return f\"el {self.brand} de color {self.color} está en {self.engine}\"\n",
    "        else:\n",
    "            print(f\"El {self.brand} de color {self.color} ya está apagado\")       \n",
    "\n",
    "    def acelerar(self, speed):\n",
    "        self.speed += speed\n",
    "        if self.speed > self.max_speed:\n",
    "            print(f\"El {self.brand} de color {self.color} está yendo a {self.max_speed} Kms/h\")\n",
    "        else:\n",
    "            print(f\"El {self.brand} de color {self.color} está yendo a {self.speed} Kms/h\")\n",
    "            \n",
    "\n",
    "    def reducir(self, speed):\n",
    "        self.speed -= speed\n",
    "        #return self.speed\n",
    "        print(f\"El {self.brand} de color {self.color} está yendo a {self.speed} Kms/h\")\n",
    "\n",
    "    def frenar(self):\n",
    "        self.speed = 0  # no es necesario poner esta linea\n",
    "        #return self.speed\n",
    "        print(f\"El {self.brand} de color {self.color} se ha parado\")\n",
    "\n"
   ]
  },
  {
   "cell_type": "code",
   "execution_count": 15,
   "metadata": {},
   "outputs": [
    {
     "name": "stdout",
     "output_type": "stream",
     "text": [
      "Car Color: Rojo \n",
      "Car Brand: Bmw \n",
      "Wheels: 4\n",
      "El Bmw de color Rojo está en ON\n",
      "El Bmw de color Rojo se ha parado\n",
      "El Bmw de color Rojo está yendo a 120 Kms/h\n"
     ]
    }
   ],
   "source": [
    "bmw = Car (\"Rojo\", \"Bmw\")\n",
    "bmw.info()\n",
    "bmw.encender()\n",
    "bmw.frenar()\n",
    "bmw.acelerar(150)"
   ]
  },
  {
   "cell_type": "code",
   "execution_count": 16,
   "metadata": {},
   "outputs": [
    {
     "name": "stdout",
     "output_type": "stream",
     "text": [
      "Car Color: Red \n",
      "Car Brand: Fiat \n",
      "Wheels: 4\n",
      "El Fiat de color Red está en ON\n",
      "El Fiat de color Red se ha parado\n",
      "El Fiat de color Red está yendo a 130 Kms/h\n"
     ]
    }
   ],
   "source": [
    "#try the code here: \n",
    "fiat=Car(\"red\", \"Fiat\", 130)\n",
    "fiat.info()\n",
    "fiat.encender()\n",
    "fiat.frenar()\n",
    "fiat.acelerar(150)\n"
   ]
  },
  {
   "cell_type": "markdown",
   "metadata": {},
   "source": [
    "## Exercise 2: Inheritance\n",
    "\n",
    "Let's recover this example set in our class: "
   ]
  },
  {
   "cell_type": "code",
   "execution_count": 17,
   "metadata": {},
   "outputs": [],
   "source": [
    "class Staff ():\n",
    "        \n",
    "    def __init__ (self, name, fname):\n",
    "        self.name = name.capitalize()\n",
    "        self.fname = fname\n",
    "        \n",
    "        # Default\n",
    "        self.time_off = 20\n",
    "        \n",
    "        #Default: as a result\n",
    "        self.email = self.name.lower() + \".\" + self.fname.lower() + \"@ironhack.com\"\n",
    "        \n",
    "        self.hobbies = []\n",
    "        \n",
    "    \n",
    "    def introduce (self):\n",
    "        return f\"Hello, my name is {self.name}!\"\n",
    "    \n",
    "    def takes_days_off (self, días):\n",
    "        if self.time_off - días >= 0:\n",
    "            self.time_off -= días\n",
    "            return f\"Now you have {self.time_off} days off available\"\n",
    "        else:\n",
    "            return f\"Sorry, you ran out of days. Your total time_off available is {self.time_off}\"\n",
    "    \n",
    "    def hobbies_function (self, *hob): #passing an optional argument // permite pasar una cantidad variable de argumentos a la función\n",
    "        if hob: # Si hob contiene valores, esos valores se procesarán (es decir, se agregarán a la lista de hobbies), \n",
    "                                                    #la función itera sobre ellos usando un bucle for\n",
    "            for i in hob:\n",
    "                self.hobbies.append(i)\n",
    "                print(f\"We added: {self.hobbies[-1]}\")  # Imprime el último hobby añadido a la lista\n",
    "            return self.hobbies_function()  # se llama a la función para mostrar todos los hobbies almacenados.\n",
    "        else: # Si hob está vacío (no se pasan hobbies), la función simplemente devolverá una lista de hobbies almacenados.\n",
    "            new = \", \".join([i for i in self.hobbies]) # Combina los hobbies de la lista en una sola cadena separada por comas.\n",
    "            return f\"My hobbies are: {new}\"\n",
    "        \n",
    "    def info(self):\n",
    "        if len(self.hobbies) > 0:\n",
    "            return f\"Hello, my name is {self.name} {self.fname}, I have {self.time_off} days of time off and my hobbies are {\", \".join(self.hobbies)}\"\n",
    "        else:\n",
    "            return f\"Hello, my name is {self.name} {self.fname}, I have {self.time_off} days of time off and I have no hobbies. My life is miserable!!\""
   ]
  },
  {
   "cell_type": "markdown",
   "metadata": {},
   "source": [
    "### 2.1 Class Variable\n",
    "\n",
    "Create a class variable (attribute shared by everybody in the organization). This class variable will `company`, and it should be always **Ironhack**"
   ]
  },
  {
   "cell_type": "code",
   "execution_count": 21,
   "metadata": {},
   "outputs": [],
   "source": [
    "# Your code here: \n",
    "class Staff ():\n",
    "    company = \"Ironhack\"    \n",
    "    def __init__ (self, name, fname):\n",
    "        self.name = name.capitalize()\n",
    "        self.fname = fname\n",
    "        \n",
    "        # Default\n",
    "        self.time_off = 20\n",
    "        \n",
    "        #Default: as a result\n",
    "        self.email = self.name.lower() + \".\" + self.fname.lower() + \"@ironhack.com\"\n",
    "        self.hobbies = []\n",
    "        \n",
    "    def introduce (self):\n",
    "        return f\"Hello, my name is {self.name}!\"\n",
    "    \n",
    "    def takes_days_off (self, días):\n",
    "        if self.time_off - días >= 0:\n",
    "            self.time_off -= días\n",
    "            return f\"Now you have {self.time_off} days off available\"\n",
    "        else:\n",
    "            return f\"Sorry, you ran out of days. Your total time_off available is {self.time_off}\"\n",
    "    \n",
    "    def hobbies_function (self, *hob): #passing an optional argument // permite pasar una cantidad variable de argumentos a la función\n",
    "        if hob: # Si hob contiene valores, esos valores se procesarán (es decir, se agregarán a la lista de hobbies), \n",
    "                                                    #la función itera sobre ellos usando un bucle for\n",
    "            for i in hob:\n",
    "                self.hobbies.append(i)\n",
    "                print(f\"We added: {self.hobbies[-1]}\")  # Imprime el último hobby añadido a la lista\n",
    "            return self.hobbies_function()  # se llama a la función para mostrar todos los hobbies almacenados.\n",
    "        else: # Si hob está vacío (no se pasan hobbies), la función simplemente devolverá una lista de hobbies almacenados.\n",
    "            new = \", \".join([i for i in self.hobbies]) # Combina los hobbies de la lista en una sola cadena separada por comas.\n",
    "            return f\"My hobbies are: {new}\"\n",
    "        \n",
    "    def info(self):\n",
    "        if len(self.hobbies) > 0:\n",
    "            return f\"Hello, my name is {self.name} {self.fname}, I have {self.time_off} days of time off. My email is {self.email} and my hobbies are {\", \".join(self.hobbies)}. I work in {self.company}\"\n",
    "        else:\n",
    "            return f\"Hello, my name is {self.name} {self.fname}, I have {self.time_off} days of time off. My email is {self.email} and I have no hobbies. My life is miserable!! I work in {self.company}\""
   ]
  },
  {
   "cell_type": "markdown",
   "metadata": {},
   "source": [
    "### 1.2 Info Method\n",
    "\n",
    "As in the previous exercise, set a method to know all the information related with each person: Name, Surname, Time_Off Available, Mail, hobbies and Company"
   ]
  },
  {
   "cell_type": "code",
   "execution_count": 73,
   "metadata": {},
   "outputs": [],
   "source": [
    "# Your code here\n",
    "def info(self):\n",
    "        if len(self.hobbies) > 0:\n",
    "            return f\"Hello, my name is {self.name} {self.fname}, I have {self.time_off} days of time off. My email is {self.email} and my hobbies are {\", \".join(self.hobbies)}. I work in {self.company}\"\n",
    "        else:\n",
    "            return f\"Hello, my name is {self.name} {self.fname}, I have {self.time_off} days of time off. My email is {self.email} and I have no hobbies. My life is miserable!! I work in {self.company}\""
   ]
  },
  {
   "cell_type": "code",
   "execution_count": 23,
   "metadata": {},
   "outputs": [
    {
     "name": "stdout",
     "output_type": "stream",
     "text": [
      "We added: Basketball\n",
      "We added: Board Games\n",
      "We added: Coding\n"
     ]
    },
    {
     "data": {
      "text/plain": [
       "'Now you have 10 days off available'"
      ]
     },
     "execution_count": 23,
     "metadata": {},
     "output_type": "execute_result"
    }
   ],
   "source": [
    "# Try it here!!\n",
    "\n",
    "bestteacherever = Staff(\"Gonzalo\", \"Quesada\")\n",
    "bestteacherever.hobbies_function(\"Basketball\", \"Board Games\", \"Coding\")\n",
    "bestteacherever.takes_days_off(10)\n"
   ]
  },
  {
   "cell_type": "code",
   "execution_count": 26,
   "metadata": {},
   "outputs": [
    {
     "name": "stdout",
     "output_type": "stream",
     "text": [
      "Hello, my name is Gonzalo Quesada, I have 10 days of time off. My email is gonzalo.quesada@ironhack.com and my hobbies are Basketball, Board Games, Coding. I work in Ironhack\n",
      "We added: Coding\n"
     ]
    },
    {
     "data": {
      "text/plain": [
       "'My hobbies are: Basketball, Board Games, Coding, Coding'"
      ]
     },
     "execution_count": 26,
     "metadata": {},
     "output_type": "execute_result"
    }
   ],
   "source": [
    "print(bestteacherever.info())\n",
    "bestteacherever.hobbies_function(\"Coding\") # el hobby sale repetido...\n"
   ]
  },
  {
   "cell_type": "markdown",
   "metadata": {},
   "source": [
    "### 1.3 Inheritance\n",
    "\n",
    "Now suppose the Marketing department works differently, but inside the organization. In other words, Staff will be the Parent Class and Marketing the Child. The differences are: \n",
    "\n",
    "- The mail must end with .mktg (for example, instead of laura.molas@ironhack.com it should be laura.molas.mktg@ironhack.com)\n",
    "- The total days they have of time_off is 30 (Lucky them...)\n",
    "- In addition, in the `introduce` method, they should salute the same as in Staff BUT adding that they are from the Marketing dpt. "
   ]
  },
  {
   "cell_type": "code",
   "execution_count": 27,
   "metadata": {},
   "outputs": [],
   "source": [
    "# Your code here: \n",
    "# Child class\n",
    "class Marketing(Staff):\n",
    "    def __init__(self, name, fname,):\n",
    "        super().__init__(name, fname)  # por qué no se pone fname??\n",
    "        self.email = self.name.lower() + \".\" + self.fname.lower() + \".mktg@ironhack.com\"\n",
    "        self.time_off = 30\n",
    "\n",
    "    def introduce(self):\n",
    "        return f\"Hello, my name is {self.name}, my email is {self.email} and I am from the Marketing dpt!\"\n",
    "    "
   ]
  },
  {
   "cell_type": "code",
   "execution_count": 28,
   "metadata": {},
   "outputs": [
    {
     "name": "stdout",
     "output_type": "stream",
     "text": [
      "We added: Photography\n",
      "We added: Animals\n"
     ]
    },
    {
     "data": {
      "text/plain": [
       "'Hello, my name is Laura, my email is laura.molas.mktg@ironhack.com and I am from the Marketing dpt!'"
      ]
     },
     "execution_count": 28,
     "metadata": {},
     "output_type": "execute_result"
    }
   ],
   "source": [
    "#Try if your Class is well defined with this example: \n",
    "mktg=Marketing(\"Laura\", \"Molas\")\n",
    "mktg.hobbies_function(\"Photography\", \"Animals\")\n",
    "mktg.introduce()"
   ]
  },
  {
   "cell_type": "code",
   "execution_count": 29,
   "metadata": {},
   "outputs": [
    {
     "data": {
      "text/plain": [
       "'Hello, my name is Laura Molas, I have 30 days of time off. My email is laura.molas.mktg@ironhack.com and my hobbies are Photography, Animals. I work in Ironhack'"
      ]
     },
     "execution_count": 29,
     "metadata": {},
     "output_type": "execute_result"
    }
   ],
   "source": [
    "mktg.info()"
   ]
  }
 ],
 "metadata": {
  "kernelspec": {
   "display_name": "local",
   "language": "python",
   "name": "python3"
  },
  "language_info": {
   "codemirror_mode": {
    "name": "ipython",
    "version": 3
   },
   "file_extension": ".py",
   "mimetype": "text/x-python",
   "name": "python",
   "nbconvert_exporter": "python",
   "pygments_lexer": "ipython3",
   "version": "3.12.5"
  }
 },
 "nbformat": 4,
 "nbformat_minor": 2
}
